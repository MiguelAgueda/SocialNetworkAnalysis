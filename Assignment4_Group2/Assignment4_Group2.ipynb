{
 "cells": [
  {
   "cell_type": "markdown",
   "metadata": {},
   "source": [
    "# Part1 "
   ]
  },
  {
   "cell_type": "code",
   "execution_count": 5,
   "metadata": {},
   "outputs": [],
   "source": [
    "import networkx as nx\n",
    "\n",
    "G1 = nx.read_gml('friendships.gml')"
   ]
  },
  {
   "cell_type": "markdown",
   "metadata": {},
   "source": [
    "### 1. Find the degree centrality, closeness centrality, and normalized betweeness centrality (excluding endpoints) of node 100."
   ]
  },
  {
   "cell_type": "code",
   "execution_count": 6,
   "metadata": {},
   "outputs": [
    {
     "name": "stdout",
     "output_type": "stream",
     "text": [
      "Degree Centrality of node 100 is               : 0.0026501766784452294 \n",
      "Closeness Centrality of node 100 is            : 0.2654784240150094\n",
      "Normalized Betweeness Centrality of node 100 is: 7.142902633244772e-05\n"
     ]
    }
   ],
   "source": [
    "\"\"\" Author: Pedro Gonzalez-Guevara\"\"\"\n",
    "\n",
    "degreeCentrality = nx.degree_centrality(G1)[100]\n",
    "closenessCentrality = nx.closeness_centrality(G1)[100]\n",
    "normalizedBetweenessCentrality = nx.betweenness_centrality(G1, normalized=True, endpoints=False)[100]\n",
    "\n",
    "print(F\"Degree Centrality of node 100 is               : {degreeCentrality} \")\n",
    "print(F\"Closeness Centrality of node 100 is            : {closenessCentrality}\")\n",
    "print(F\"Normalized Betweeness Centrality of node 100 is: {normalizedBetweenessCentrality}\")"
   ]
  },
  {
   "cell_type": "markdown",
   "metadata": {},
   "source": [
    "### 2. Suppose you are employed by an online shopping website and are tasked with selecting one user in network G1 to send an online shopping voucher to. We expect that the user who receives the voucher will send it to their friends in the network. You want the voucher to reach as many nodes as possible. The voucher can be forwarded to multiple users at the same time, but the travel distance of the voucher is limited to one step, which means if the voucher travels more than one step in this network, it is no longer valid. Apply your knowledge in network centrality to select the best candidate for the voucher."
   ]
  },
  {
   "cell_type": "code",
   "execution_count": 7,
   "metadata": {},
   "outputs": [
    {
     "name": "stdout",
     "output_type": "stream",
     "text": [
      "Node #105 has the highest degree centrality at 0.0636042402826855\n",
      "and thus it can reach as many nodes as possible with only one step\n"
     ]
    }
   ],
   "source": [
    "def findNodeWithHighestDegreeCentrality():\n",
    "    \"\"\" Find the node with the highest degree centrality\n",
    "    \n",
    "    Parameters\n",
    "    ----------\n",
    "        None\n",
    "    \n",
    "    Returns\n",
    "    -------\n",
    "        highestDegreeCentrality: Tuple consisting of a node and its degree centrality.\n",
    "        \n",
    "    Author: Pedro Gonzalez-Guevara\n",
    "    \"\"\"\n",
    "    degreeCentralityList = nx.degree_centrality(G1)\n",
    "    highestDegreeCentrality = (0.0, 0.0)\n",
    "    \n",
    "    for (node, degreeCentrality) in degreeCentralityList.items():\n",
    "        if degreeCentrality >= highestDegreeCentrality[1]:\n",
    "            highestDegreeCentrality = (node, degreeCentrality)\n",
    "    return highestDegreeCentrality\n",
    "\n",
    "node = findNodeWithHighestDegreeCentrality()[0]\n",
    "degreeCentrality = findNodeWithHighestDegreeCentrality()[1]\n",
    "print(F\"Node #{node} has the highest degree centrality at {degreeCentrality}\")\n",
    "print(\"and thus it can reach as many nodes as possible with only one step\")\n"
   ]
  },
  {
   "cell_type": "markdown",
   "metadata": {},
   "source": [
    "### 3. Now the limit of the voucher’s travel distance has been removed. Because the network is connected, regardless of who you pick, every node in the network will eventually receive the voucher. However, we now want to ensure that the voucher reaches the nodes in the lowest average number of hops. \n",
    "\n",
    "### How would you change your selection strategy? Write a code to tell us who is the best candidate in the network under this condition."
   ]
  },
  {
   "cell_type": "code",
   "execution_count": 8,
   "metadata": {},
   "outputs": [
    {
     "name": "stdout",
     "output_type": "stream",
     "text": [
      "Node #23 has the highest closeness centrality at 0.3847722637661455\n",
      "Therefore, it can distribute the voucher at the lowest average number of hops\n"
     ]
    }
   ],
   "source": [
    "def findNodeWithHighestClosenessCentrality():\n",
    "    \"\"\" Find the node with the highest closeness centrality\n",
    "    \n",
    "    Parameters\n",
    "    ----------\n",
    "        None\n",
    "    \n",
    "    Returns\n",
    "    -------\n",
    "        highestClosenessCentrality: Tuple consisting of a node and its closeness centrality.\n",
    "        \n",
    "    Author: Pedro Gonzalez-Guevara\n",
    "    \"\"\"\n",
    "    closenessCentralityList = nx.closeness_centrality(G1)\n",
    "    highestClosenessCentrality = (0.0, 0.0)\n",
    "    \n",
    "    for (node, closenessCentrality) in closenessCentralityList.items():\n",
    "        if closenessCentrality >= highestClosenessCentrality[1]:\n",
    "            highestClosenessCentrality = (node, closenessCentrality)\n",
    "    return highestClosenessCentrality\n",
    "\n",
    "node = findNodeWithHighestClosenessCentrality()[0]\n",
    "closenessCentrality = findNodeWithHighestClosenessCentrality()[1]\n",
    "print(F\"Node #{node} has the highest closeness centrality at {closenessCentrality}\")\n",
    "print(\"Therefore, it can distribute the voucher at the lowest average number of hops\")"
   ]
  },
  {
   "cell_type": "markdown",
   "metadata": {},
   "source": [
    "### 4. Assume the restriction on the voucher’s travel distance is still removed, but now a competitor has developed a strategy to remove a person from the network in order to disrupt the distribution of your company’s voucher. Your competitor is specifically targeting people who are often bridges of information flow between other pairs of people. Identify the single riskiest person to be removed under your competitor’s strategy?"
   ]
  },
  {
   "cell_type": "code",
   "execution_count": 9,
   "metadata": {},
   "outputs": [
    {
     "name": "stdout",
     "output_type": "stream",
     "text": [
      "Node #333 has the highest betweenness centrality at 0.03939111019601939\n",
      "Therefore, it is the riskest node that can be removed since many short paths pass through this node\n"
     ]
    }
   ],
   "source": [
    "def findNodeWithHighestBetweenessCentrality():\n",
    "    \"\"\" Find the node with the highest normalized betweeness centrality\n",
    "    \n",
    "    Parameters\n",
    "    ----------\n",
    "        None\n",
    "    \n",
    "    Returns\n",
    "    -------\n",
    "        highestBetweenessCentrality: Tuple consisting of a node and its betweeness centrality.\n",
    "        \n",
    "    Author: Pedro Gonzalez-Guevara\n",
    "    \"\"\"\n",
    "    betweennessCentralityList = nx.betweenness_centrality(G1, normalized=True, endpoints=False)\n",
    "    highestBetweenessCentrality = (0.0, 0.0)\n",
    "    \n",
    "    for (node, betweennessCentrality) in betweennessCentralityList.items():\n",
    "        if betweennessCentrality >= highestBetweenessCentrality[1]:\n",
    "            highestBetweenessCentrality = (node, betweennessCentrality)\n",
    "    return highestBetweenessCentrality\n",
    "\n",
    "node = findNodeWithHighestBetweenessCentrality()[0]\n",
    "betweennessCentrality = findNodeWithHighestBetweenessCentrality()[1]\n",
    "print(F\"Node #{node} has the highest betweenness centrality at {betweennessCentrality}\")\n",
    "print(\"Therefore, it is the riskest node that can be removed since many short paths pass through this node\")"
   ]
  },
  {
   "cell_type": "markdown",
   "metadata": {},
   "source": [
    "# Part 2\n",
    "\n",
    "## Load Network from GML."
   ]
  },
  {
   "cell_type": "code",
   "execution_count": 10,
   "metadata": {},
   "outputs": [],
   "source": [
    "G2 = nx.read_gml('blogs.gml')"
   ]
  },
  {
   "cell_type": "markdown",
   "metadata": {},
   "source": [
    "## 5. Apply the Scaled Page Rank Algorithm to this network. Find the Page Rank of node `realclearpolitics.com` with damping value 0.85."
   ]
  },
  {
   "cell_type": "code",
   "execution_count": null,
   "metadata": {},
   "outputs": [],
   "source": []
  },
  {
   "cell_type": "markdown",
   "metadata": {},
   "source": [
    "## 6. Apply the Scaled Page Rank Algorithm to this network with damping value 0.85. Find the 5 nodes with highest Page Rank."
   ]
  },
  {
   "cell_type": "code",
   "execution_count": null,
   "metadata": {},
   "outputs": [],
   "source": []
  },
  {
   "cell_type": "markdown",
   "metadata": {},
   "source": [
    "## 7. Apply the HITS Algorithm to the network to find the hub and authority scores of node `realclearpolitics.com`."
   ]
  },
  {
   "cell_type": "code",
   "execution_count": null,
   "metadata": {},
   "outputs": [],
   "source": []
  },
  {
   "cell_type": "markdown",
   "metadata": {},
   "source": [
    "## 8. Apply the HITS Algorithm to this network to find the 5 nodes with highest hub scores."
   ]
  },
  {
   "cell_type": "code",
   "execution_count": null,
   "metadata": {},
   "outputs": [],
   "source": []
  },
  {
   "cell_type": "markdown",
   "metadata": {},
   "source": [
    "## 9. Apply the HITS Algorithm to this network to find the 5 nodes with highest authority scores."
   ]
  },
  {
   "cell_type": "code",
   "execution_count": null,
   "metadata": {},
   "outputs": [],
   "source": []
  }
 ],
 "metadata": {
  "kernelspec": {
   "display_name": "Python 3",
   "language": "python",
   "name": "python3"
  },
  "language_info": {
   "codemirror_mode": {
    "name": "ipython",
    "version": 3
   },
   "file_extension": ".py",
   "mimetype": "text/x-python",
   "name": "python",
   "nbconvert_exporter": "python",
   "pygments_lexer": "ipython3",
   "version": "3.8.5"
  }
 },
 "nbformat": 4,
 "nbformat_minor": 4
}
