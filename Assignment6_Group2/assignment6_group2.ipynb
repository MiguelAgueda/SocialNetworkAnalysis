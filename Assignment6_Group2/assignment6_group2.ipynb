{
 "cells": [
  {
   "cell_type": "code",
   "execution_count": 1,
   "metadata": {},
   "outputs": [],
   "source": [
    "import networkx as nx"
   ]
  },
  {
   "cell_type": "markdown",
   "metadata": {},
   "source": [
    "# Extract the Network from amazon-meta.txt"
   ]
  },
  {
   "cell_type": "code",
   "execution_count": 2,
   "metadata": {},
   "outputs": [
    {
     "name": "stdout",
     "output_type": "stream",
     "text": [
      "Name: \n",
      "Type: Graph\n",
      "Number of nodes: 548552\n",
      "Number of edges: 0\n",
      "Average degree:   0.0000\n"
     ]
    }
   ],
   "source": [
    "# Extract the data from the file\n",
    "file = \"./amazon-meta.txt\"\n",
    "with open(file, encoding = 'utf8') as f:\n",
    "    data = f.readlines()\n",
    "\n",
    "# Create a network using this data\n",
    "G = nx.Graph()\n",
    "i = 0 \n",
    "for line in data:\n",
    "    currentLine = line.split() #Split the line into a list where each word is a list item \n",
    "    if len(currentLine) >= 2 and currentLine[0] == \"Id:\":\n",
    "        G.add_node(currentLine[1])\n",
    "\n",
    "        \n",
    "        \n",
    "\n",
    "print(nx.info(G))\n",
    "\n",
    "    \n",
    "    "
   ]
  },
  {
   "cell_type": "markdown",
   "metadata": {},
   "source": [
    "# Extract the network communities and analysis of their homogeneity with respect to product categories"
   ]
  },
  {
   "cell_type": "code",
   "execution_count": null,
   "metadata": {},
   "outputs": [],
   "source": []
  }
 ],
 "metadata": {
  "kernelspec": {
   "display_name": "Python 3",
   "language": "python",
   "name": "python3"
  },
  "language_info": {
   "codemirror_mode": {
    "name": "ipython",
    "version": 3
   },
   "file_extension": ".py",
   "mimetype": "text/x-python",
   "name": "python",
   "nbconvert_exporter": "python",
   "pygments_lexer": "ipython3",
   "version": "3.8.5"
  }
 },
 "nbformat": 4,
 "nbformat_minor": 4
}
