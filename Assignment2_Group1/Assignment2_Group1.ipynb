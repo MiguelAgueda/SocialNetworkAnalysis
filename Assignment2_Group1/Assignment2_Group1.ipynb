{
 "cells": [
  {
   "cell_type": "markdown",
   "metadata": {},
   "source": [
    "# Assignment 2: Loading Graphs in Networkx"
   ]
  },
  {
   "cell_type": "markdown",
   "metadata": {},
   "source": [
    "## 0. Import Packages"
   ]
  },
  {
   "cell_type": "code",
   "execution_count": 2,
   "metadata": {},
   "outputs": [],
   "source": [
    "import networkx as nx\n",
    "import pandas as pd\n",
    "import matplotlib.pyplot as plt"
   ]
  },
  {
   "cell_type": "markdown",
   "metadata": {},
   "source": [
    "## 1. Read the csv file into a data frame"
   ]
  },
  {
   "cell_type": "code",
   "execution_count": 3,
   "metadata": {},
   "outputs": [],
   "source": [
    "def csv_to_dataframe(path: str) -> pd.DataFrame:\n",
    "    \"\"\" Accepts a path to a CSV file and returns the data as a Pandas DataFrame object.\n",
    "    \n",
    "    Parameters\n",
    "    ----------\n",
    "        path: String object specifying path to CSV data file.\n",
    "    \n",
    "    Returns\n",
    "    -------\n",
    "        dataframe: Pandas Dataframe object corresponding to input path.\n",
    "    \"\"\"\n",
    "    \n",
    "    data = pd.read_csv(path)\n",
    "    return data"
   ]
  },
  {
   "cell_type": "markdown",
   "metadata": {},
   "source": [
    "## 2. Create a graph from the data frame"
   ]
  },
  {
   "cell_type": "code",
   "execution_count": 4,
   "metadata": {},
   "outputs": [],
   "source": [
    "def dataframe_to_digraph(dataframe: pd.DataFrame) -> nx.DiGraph:\n",
    "    \"\"\" Create and return a directed graph generated from input dataframe.\n",
    "    \n",
    "    Parameters\n",
    "    ----------\n",
    "        dataframe: Pandas Dataframe object.\n",
    "    \n",
    "    Returns\n",
    "    -------\n",
    "        digraph: Networkx Directed Graph generated from input dataframe.\n",
    "    \"\"\"\n",
    "    \n",
    "    pass"
   ]
  },
  {
   "cell_type": "markdown",
   "metadata": {},
   "source": [
    "## 3. Visualize the graph using a shell layout"
   ]
  },
  {
   "cell_type": "code",
   "execution_count": 5,
   "metadata": {},
   "outputs": [],
   "source": [
    "def graph_shell(digraph: nx.DiGraph) -> None:\n",
    "    \"\"\" Generate visualization of directed graph.\n",
    "    \n",
    "    Parameters\n",
    "    ----------\n",
    "        digraph: Networkx DiGraph object containing graph to visualize.\n",
    "    \"\"\"\n",
    "    \n",
    "    pass"
   ]
  },
  {
   "cell_type": "markdown",
   "metadata": {},
   "source": [
    "## 4. Start analyzing the graph\n",
    "\n",
    "### 4.1 Who was the employee `that was rated` the most?"
   ]
  },
  {
   "cell_type": "code",
   "execution_count": 6,
   "metadata": {},
   "outputs": [],
   "source": [
    "def most_rated(digraph: nx.DiGraph) -> str:\n",
    "    \"\"\" Retrieve the name of the employee who recieved the most ratings.\n",
    "    \n",
    "    Parameters\n",
    "    ----------\n",
    "        digraph: Networkx DiGraph object containing employee rating network.\n",
    "    \n",
    "    Returns\n",
    "    -------\n",
    "        most_rated: String object containing name of the most rated employee.\n",
    "    \"\"\"\n",
    "    \n",
    "    pass"
   ]
  },
  {
   "cell_type": "markdown",
   "metadata": {},
   "source": [
    "### 4.2 Who was the employee `that rated` the most?"
   ]
  },
  {
   "cell_type": "code",
   "execution_count": 7,
   "metadata": {},
   "outputs": [],
   "source": [
    "def rated_most(digraph: nx.DiGraph) -> str:\n",
    "    \"\"\" Retrieve the name of the employee who supplied the most ratings.\n",
    "    \n",
    "    Parameters\n",
    "    ----------\n",
    "        digraph: Networkx DiGraph object containing employee rating network.\n",
    "    \n",
    "    Returns\n",
    "    -------\n",
    "        rated_most: String object containing name of the employee who supplied\n",
    "            the most ratings.\n",
    "    \"\"\"\n",
    "\n",
    "    pass"
   ]
  },
  {
   "cell_type": "markdown",
   "metadata": {},
   "source": [
    "### 4.3 Who was the employee with the highest average rate?"
   ]
  },
  {
   "cell_type": "code",
   "execution_count": 8,
   "metadata": {},
   "outputs": [],
   "source": [
    "def highest_rated(dataframe: pd.DataFrame) -> str:\n",
    "    \"\"\" Retrieve the name of the employee with the highest average rating.\n",
    "    \n",
    "    Parameters\n",
    "    ----------\n",
    "        dataframe: Pandas Dataframe object.\n",
    "    \n",
    "    Returns\n",
    "    -------\n",
    "        highest_rated: Name of the employee with the highest average rating.\n",
    "    \"\"\"\n",
    "    \n",
    "    pass"
   ]
  },
  {
   "cell_type": "markdown",
   "metadata": {},
   "source": [
    "### 4.4 Who was the employee with the lowest average rate?"
   ]
  },
  {
   "cell_type": "code",
   "execution_count": 9,
   "metadata": {},
   "outputs": [],
   "source": [
    "def lowest_rated(dataframe: pd.DataFrame) -> str:\n",
    "    \"\"\" Retrieve the name of the employee with the lowest average rating.\n",
    "    \n",
    "    Parameters\n",
    "    ----------\n",
    "        dataframe: Pandas Dataframe object.\n",
    "    \n",
    "    Returns\n",
    "    -------\n",
    "        lowest_rated: Name of the employee with the lowest average rating.\n",
    "    \"\"\"\n",
    "    \n",
    "    pass"
   ]
  }
 ],
 "metadata": {
  "kernelspec": {
   "display_name": "Python 3",
   "language": "python",
   "name": "python3"
  },
  "language_info": {
   "codemirror_mode": {
    "name": "ipython",
    "version": 3
   },
   "file_extension": ".py",
   "mimetype": "text/x-python",
   "name": "python",
   "nbconvert_exporter": "python",
   "pygments_lexer": "ipython3",
   "version": "3.8.5"
  }
 },
 "nbformat": 4,
 "nbformat_minor": 4
}
