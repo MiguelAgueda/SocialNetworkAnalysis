{
 "cells": [
  {
   "cell_type": "code",
   "execution_count": 2,
   "metadata": {},
   "outputs": [],
   "source": [
    "import matplotlib\n",
    "import networkx as nx\n",
    "import pandas as pd"
   ]
  },
  {
   "cell_type": "markdown",
   "metadata": {},
   "source": [
    "## 1. Load up the directed multigraph. Make sure the node names are strings."
   ]
  },
  {
   "cell_type": "code",
   "execution_count": 23,
   "metadata": {},
   "outputs": [],
   "source": [
    "def load_multidigraph(path):\n",
    "    \"\"\" Load a Directed Multigraph from a text file.\n",
    "    \n",
    "    Parameters\n",
    "    ----------\n",
    "        path: Path to text file containing data.\n",
    "    \n",
    "    Returns\n",
    "    -------\n",
    "        multidigraph: Networkx Directed Multigraph Object.\n",
    "    \n",
    "    Author: Miguel Agueda-Cabral\n",
    "    \"\"\"\n",
    "    \n",
    "    dataframe = pd.read_table(path, sep=' ', names=[\"From\", \"To\", \"Weight\"])\n",
    "    multidigraph = nx.from_pandas_edgelist(dataframe, \"From\", \"To\", edge_attr=\"Weight\", create_using=nx.MultiDiGraph())\n",
    "    \n",
    "    return multidigraph, dataframe\n",
    "\n",
    "\n",
    "multidigraph, dataframe = load_multidigraph(\"enron.txt\")"
   ]
  },
  {
   "cell_type": "markdown",
   "metadata": {},
   "source": [
    "## 2. How many unique sources did send an email? And how many emails were sent?"
   ]
  },
  {
   "cell_type": "code",
   "execution_count": 24,
   "metadata": {},
   "outputs": [
    {
     "name": "stdout",
     "output_type": "stream",
     "text": [
      "There are 146 unique email sources in the dataframe.\n"
     ]
    }
   ],
   "source": [
    "def n_unique_email_sources(dataframe):\n",
    "    \"\"\" Compute the number of unique email sources within a data set.\n",
    "    \n",
    "    Parameters\n",
    "    ----------\n",
    "        dataframe: Pandas Dataframe object with email data.\n",
    "    \n",
    "    Returns\n",
    "    -------\n",
    "        n: Integer number representing number of unique email sources.\n",
    "        \n",
    "    Author: Miguel Agueda-Cabral\n",
    "    \"\"\"\n",
    "    \n",
    "    from_set = set(dataframe[\"From\"])\n",
    "    n = len(from_set)\n",
    "    \n",
    "    return n\n",
    "\n",
    "\n",
    "n_unique_sources = n_unique_email_sources(dataframe)\n",
    "print(F\"There are {n_unique_sources} unique email sources in the dataframe.\")"
   ]
  },
  {
   "cell_type": "markdown",
   "metadata": {},
   "source": [
    "## 3. Assume that information to and from the research institute can only be exchanged through emails, When an email is sent to someone inside the institute, a communication channel is created, allowing the sender to provide information to the receiver, but not vice versa. Based on the emails sent on the data, is it possible for information to go from every sender to every other receiver?"
   ]
  },
  {
   "cell_type": "code",
   "execution_count": 25,
   "metadata": {},
   "outputs": [
    {
     "name": "stdout",
     "output_type": "stream",
     "text": [
      "Graph is connected: False\n"
     ]
    }
   ],
   "source": [
    "def fully_connected_one_way(multidigraph):\n",
    "    \"\"\" Determine whether directed multigraph is fully connected.\n",
    "    \n",
    "    Parameters\n",
    "    ----------\n",
    "        multidigraph: Networkx Directed Multigraph representing email network.\n",
    "    \n",
    "    Returns\n",
    "    -------\n",
    "        fully_connected: Boolean result of network connection status.\n",
    "            True: Network is fully connected.\n",
    "            False: Network is not fully connected.\n",
    "            \n",
    "    Author: Miguel Agueda-Cabral\n",
    "    \"\"\"\n",
    "    \n",
    "    return nx.is_strongly_connected(multidigraph)\n",
    "\n",
    "\n",
    "connected_status = fully_connected_one_way(multidigraph)\n",
    "print(F\"Graph is connected: {connected_status}\")"
   ]
  },
  {
   "cell_type": "markdown",
   "metadata": {},
   "source": [
    "## 4. Now assume that a communication channel established by an email allows information to be exchanged both ways. Based on the emails sent on the data, is it possible for information to go from every sender to every other receiver?"
   ]
  },
  {
   "cell_type": "code",
   "execution_count": 27,
   "metadata": {},
   "outputs": [
    {
     "name": "stdout",
     "output_type": "stream",
     "text": [
      "Undirected graph is connected: True\n"
     ]
    }
   ],
   "source": [
    "def fully_connected_two_way(multidigraph):\n",
    "    \"\"\" Determine whether undirected graph is fully connected.\n",
    "    \n",
    "    Parameters\n",
    "    ----------\n",
    "        multidigraph: Networkx Directed Multigraph representing email network.\n",
    "    \n",
    "    Returns\n",
    "    -------\n",
    "        fully_connected: Boolean result of undirected network connection status.\n",
    "            True: Network is fully connected.\n",
    "            False: Network is not fully connected.\n",
    "            \n",
    "    Author: Miguel Agueda-Cabral\n",
    "    \"\"\"\n",
    "    \n",
    "    undirected_graph = multidigraph.to_undirected()\n",
    "    return nx.is_connected(undirected_graph)\n",
    "\n",
    "\n",
    "undirected_connection_status = fully_connected_two_way(multidigraph)\n",
    "print(F\"Undirected graph is connected: {undirected_connection_status}\")"
   ]
  },
  {
   "cell_type": "markdown",
   "metadata": {},
   "source": [
    "## 5. How many nodes are in the largest (in terms of nodes) weakly connected component?"
   ]
  },
  {
   "cell_type": "code",
   "execution_count": 30,
   "metadata": {},
   "outputs": [
    {
     "name": "stdout",
     "output_type": "stream",
     "text": [
      "There exists 151 nodes in the largest weakly connected component.\n"
     ]
    }
   ],
   "source": [
    "def size_largest_weak_component(digraph):\n",
    "    \"\"\" Return the size of the largest weakly connected component in a graph.\n",
    "    \n",
    "    Parameters\n",
    "    ----------\n",
    "        digraph: Networkx Directed Graph.\n",
    "    \n",
    "    Returns\n",
    "    -------\n",
    "        n: Integer size of the largest weakly connected component.\n",
    "        \n",
    "    Author: Miguel Agueda-Cabral\n",
    "    \"\"\"\n",
    "    \n",
    "    largest_weak_component = max(nx.weakly_connected_components(digraph), key=len)\n",
    "    n = len(largest_weak_component)\n",
    "    \n",
    "    return n\n",
    "\n",
    "\n",
    "n_largest_weak_component = size_largest_weak_component(multidigraph)\n",
    "print(F\"There exists {n_largest_weak_component} nodes in the largest weakly connected component.\")"
   ]
  },
  {
   "cell_type": "markdown",
   "metadata": {},
   "source": [
    "## 6. How many nodes are in the largest (in terms of nodes) strongly connected component?"
   ]
  },
  {
   "cell_type": "code",
   "execution_count": null,
   "metadata": {},
   "outputs": [],
   "source": [
    def size_largest_strong_component(digraph):
    """ Return the size of the largest weakly connected component in a graph.
    
    Parameters
    ----------
        digraph: Networkx Directed Graph.
    
    Returns
    -------
        n: Integer size of the largest strongly connected component.
        
    Author: Edd Castillo
    """
    
    largest_strong_component = max(nx.strongly_connected_components(digraph), key=len)
    n = len(largest_strong_component)
    
    return n


n_largest_strong_component = size_largest_strong_component(multidigraph)
print(F"There exists {n_largest_strong_component} nodes in the largest strongly connected component.")
   ]
  },
  {
   "cell_type": "markdown",
   "metadata": {},
   "source": [
    "## 7. Using the function subgraph, find the subgraph of nodes in a largest strongly connected component. Call this graph G_sc. How many nodes are in this graph? "
   ]
  },
  {
   "cell_type": "code",
   "execution_count": null,
   "metadata": {},
   "outputs": [],
   "source": []
  },
  {
   "cell_type": "markdown",
   "metadata": {},
   "source": [
    "## 8. What is the average distance between nodes in G_sc?"
   ]
  },
  {
   "cell_type": "code",
   "execution_count": null,
   "metadata": {},
   "outputs": [],
   "source": [
    "def average_distance(graph):\n",
    "    \"\"\" Compute the average distance between the nodes in a graph.\n",
    "    \n",
    "    Parameters\n",
    "    ----------\n",
    "        graph: Networkx Graph\n",
    "    \n",
    "    Returns\n",
    "    -------\n",
    "        d: Average distance between the nodes of `graph`.\n",
    "    \"\"\"\n",
    "    \n",
    "    pass"
   ]
  },
  {
   "cell_type": "markdown",
   "metadata": {},
   "source": [
    "## 9. What is the largest possible distance between two employees in G_sc?"
   ]
  },
  {
   "cell_type": "code",
   "execution_count": null,
   "metadata": {},
   "outputs": [],
   "source": [
    "def largest_distance(graph):\n",
    "    \"\"\" Compute the largest distance between any two nodes in a graph.\n",
    "    \n",
    "    Parameters\n",
    "    ----------\n",
    "        graph: Networkx Graph.\n",
    "    \n",
    "    Returns\n",
    "    -------\n",
    "        d: Largest possible distance between two nodes in `graph`.\n",
    "    \"\"\"\n",
    "    \n",
    "    pass"
   ]
  },
  {
   "cell_type": "markdown",
   "metadata": {},
   "source": [
    "## 10. What is the set of nodes in G_sc with eccentricity equal to the diameter?"
   ]
  },
  {
   "cell_type": "code",
   "execution_count": null,
   "metadata": {},
   "outputs": [],
   "source": [
    "def set_w_eccentricity_equal_to_diameter(graph):\n",
    "    \"\"\" Find nodes within a graph which have eccentricity equal to diameter.\n",
    "    \n",
    "    Parameters\n",
    "    ----------\n",
    "        graph: Networkx Graph.\n",
    "    \n",
    "    Returns\n",
    "    -------\n",
    "        target_set: Set of nodes with eccentricity equal to diameter.\n",
    "    \"\"\"\n",
    "    \n",
    "    pass"
   ]
  },
  {
   "cell_type": "markdown",
   "metadata": {},
   "source": [
    "## 11. What is the set of node(s) in G_sc with eccentricity equal to the radius? How many nodes are connected to this node?"
   ]
  },
  {
   "cell_type": "code",
   "execution_count": null,
   "metadata": {},
   "outputs": [],
   "source": [
    "def set_w_eccentricity_equal_to_diameter(graph):\n",
    "    \"\"\" Find nodes within a graph which have eccentricity equal to diameter.\n",
    "    \n",
    "    Parameters\n",
    "    ----------\n",
    "        graph: Networkx Graph.\n",
    "    \n",
    "    Returns\n",
    "    -------\n",
    "        target_set: Set of nodes with eccentricity equal to diameter.\n",
    "    \"\"\"\n",
    "    \n",
    "    pass"
   ]
  },
  {
   "cell_type": "markdown",
   "metadata": {},
   "source": [
    "## 12. Which node in G_sc is connected to the most other nodes by a shortest path of length equal to the diameter of G_sc? How many nodes are connected to this node?"
   ]
  },
  {
   "cell_type": "code",
   "execution_count": null,
   "metadata": {},
   "outputs": [],
   "source": [
    "def most_connected_w_path_equal_to_diameter(graph):\n",
    "    \"\"\" Find the node with the most connections of length equal to diameter of the graph.\n",
    "    \n",
    "    Parameters\n",
    "    ----------\n",
    "        graph: Networkx Graph.\n",
    "    \n",
    "    Returns\n",
    "    -------\n",
    "        node: Node with the most connections, satisfying conditions.\n",
    "        n: Number of nodes connected to `node`. \n",
    "    \"\"\"\n",
    "    \n",
    "    pass"
   ]
  },
  {
   "cell_type": "markdown",
   "metadata": {},
   "source": [
    "## 13. Suppose you want to prevent communication from flowing to the node that you found in the previous question from any node in the center of G_sc, what is the smallest number of nodes you would need to remove from the graph (you're not allowed to remove the node from the previous question or the center nodes)?"
   ]
  },
  {
   "cell_type": "code",
   "execution_count": null,
   "metadata": {},
   "outputs": [],
   "source": [
    "def prevent_comm_from_node_to_center(node, graph):\n",
    "    \"\"\" Compute the number of nodes required to prevent communication between a node and the center of a graph.\n",
    "    \n",
    "    Parameters\n",
    "    ----------\n",
    "        node: Node to prevent from communicating with center of graph.\n",
    "        graph: Graph containing `node`.\n",
    "    \n",
    "    Returns\n",
    "    -------\n",
    "        n: Number of nodes which need to be removed to prevent communications between `node` and the center of `graph`.\n",
    "    \"\"\"\n",
    "    \n",
    "    pass"
   ]
  },
  {
   "cell_type": "markdown",
   "metadata": {},
   "source": [
    "## 14. Construct an undirected graph G_un using G_sc (you can ignore the attributes)."
   ]
  },
  {
   "cell_type": "code",
   "execution_count": null,
   "metadata": {},
   "outputs": [],
   "source": [
    "def make_undirected(digraph):\n",
    "    \"\"\" Convert Directed Graph into an Undirected Graph.\n",
    "    \n",
    "    Parameters\n",
    "    ----------\n",
    "        digraph: Networkx Directed Graph to convert.\n",
    "    \n",
    "    Returns\n",
    "    -------\n",
    "        graph: Networkx Undirected Graph representation of input `digraph`.\n",
    "    \"\"\"\n",
    "    \n",
    "    pass"
   ]
  },
  {
   "cell_type": "markdown",
   "metadata": {},
   "source": [
    "## 15. What is the transitivity and average clustering coefficient of graph G_un?"
   ]
  },
  {
   "cell_type": "code",
   "execution_count": null,
   "metadata": {},
   "outputs": [],
   "source": []
  }
 ],
 "metadata": {
  "kernelspec": {
   "display_name": "Python 3",
   "language": "python",
   "name": "python3"
  },
  "language_info": {
   "codemirror_mode": {
    "name": "ipython",
    "version": 3
   },
   "file_extension": ".py",
   "mimetype": "text/x-python",
   "name": "python",
   "nbconvert_exporter": "python",
   "pygments_lexer": "ipython3",
   "version": "3.8.5"
  }
 },
 "nbformat": 4,
 "nbformat_minor": 4
}
